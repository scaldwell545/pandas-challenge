{
 "cells": [
  {
   "cell_type": "code",
   "execution_count": 1,
   "metadata": {},
   "outputs": [],
   "source": [
    "# Dependencies and Setup\n",
    "import pandas as pd\n",
    "import os\n",
    "\n",
    "# File to Load\n",
    "file_to_load = os.path.join(os.getcwd(), \"Resources\", \"purchase_data.csv\")\n",
    "\n",
    "# Read Purchasing File and store into Pandas data frame\n",
    "purchase_data = pd.read_csv(file_to_load)"
   ]
  },
  {
   "cell_type": "code",
   "execution_count": 2,
   "metadata": {},
   "outputs": [
    {
     "data": {
      "text/html": [
       "<div>\n",
       "<style scoped>\n",
       "    .dataframe tbody tr th:only-of-type {\n",
       "        vertical-align: middle;\n",
       "    }\n",
       "\n",
       "    .dataframe tbody tr th {\n",
       "        vertical-align: top;\n",
       "    }\n",
       "\n",
       "    .dataframe thead th {\n",
       "        text-align: right;\n",
       "    }\n",
       "</style>\n",
       "<table border=\"1\" class=\"dataframe\">\n",
       "  <thead>\n",
       "    <tr style=\"text-align: right;\">\n",
       "      <th></th>\n",
       "      <th>Total PLayers</th>\n",
       "    </tr>\n",
       "  </thead>\n",
       "  <tbody>\n",
       "    <tr>\n",
       "      <th>0</th>\n",
       "      <td>576</td>\n",
       "    </tr>\n",
       "  </tbody>\n",
       "</table>\n",
       "</div>"
      ],
      "text/plain": [
       "   Total PLayers\n",
       "0            576"
      ]
     },
     "execution_count": 2,
     "metadata": {},
     "output_type": "execute_result"
    }
   ],
   "source": [
    "## Find the number of unique screen-names, move it into a dataframe, and print\n",
    "count = len(purchase_data[\"SN\"].value_counts())\n",
    "total_players_df = pd.DataFrame({\"Total PLayers\" : [count]})\n",
    "total_players_df"
   ]
  },
  {
   "cell_type": "code",
   "execution_count": 3,
   "metadata": {},
   "outputs": [
    {
     "data": {
      "text/html": [
       "<style  type=\"text/css\" >\n",
       "</style><table id=\"T_85005810_c7e3_11eb_987d_e9cce7681f15\" ><thead>    <tr>        <th class=\"blank level0\" ></th>        <th class=\"col_heading level0 col0\" >Number of Unique Items</th>        <th class=\"col_heading level0 col1\" >Average Price</th>        <th class=\"col_heading level0 col2\" >Total Purchases</th>        <th class=\"col_heading level0 col3\" >Total Revenue</th>    </tr></thead><tbody>\n",
       "                <tr>\n",
       "                        <th id=\"T_85005810_c7e3_11eb_987d_e9cce7681f15level0_row0\" class=\"row_heading level0 row0\" >0</th>\n",
       "                        <td id=\"T_85005810_c7e3_11eb_987d_e9cce7681f15row0_col0\" class=\"data row0 col0\" >179</td>\n",
       "                        <td id=\"T_85005810_c7e3_11eb_987d_e9cce7681f15row0_col1\" class=\"data row0 col1\" >$3.05</td>\n",
       "                        <td id=\"T_85005810_c7e3_11eb_987d_e9cce7681f15row0_col2\" class=\"data row0 col2\" >780</td>\n",
       "                        <td id=\"T_85005810_c7e3_11eb_987d_e9cce7681f15row0_col3\" class=\"data row0 col3\" >$2,379.77</td>\n",
       "            </tr>\n",
       "    </tbody></table>"
      ],
      "text/plain": [
       "<pandas.io.formats.style.Styler at 0x1a8ec8df520>"
      ]
     },
     "execution_count": 3,
     "metadata": {},
     "output_type": "execute_result"
    }
   ],
   "source": [
    "## Find the number of unique items using the Item ID column\n",
    "item_count = len(purchase_data[\"Item ID\"].value_counts())\n",
    "\n",
    "## Find the average price\n",
    "avg_price = purchase_data[\"Price\"].mean()\n",
    "\n",
    "## Find the total number of purchases using the Purchase ID column\n",
    "total_purchases = purchase_data[\"Purchase ID\"].count()\n",
    "\n",
    "## Sum the Price column to find Total Revenue\n",
    "total_rev = purchase_data[\"Price\"].sum()\n",
    "\n",
    "## Move results to data frame\n",
    "purchasing_analysis_df = pd.DataFrame({\"Number of Unique Items\" : [item_count], \n",
    "                                       \"Average Price\" : [avg_price], \n",
    "                                       \"Total Purchases\" : [total_purchases], \n",
    "                                       \"Total Revenue\" : [total_rev]\n",
    "                                      })\n",
    "\n",
    "## Format the data frame and print\n",
    "purchasing_formatted_df = purchasing_analysis_df.style.format({'Average Price':'${0:,.2f}', \n",
    "                                                    'Total Revenue' : '${0:,.2f}'})\n",
    "purchasing_formatted_df"
   ]
  },
  {
   "cell_type": "code",
   "execution_count": 4,
   "metadata": {},
   "outputs": [
    {
     "data": {
      "text/html": [
       "<style  type=\"text/css\" >\n",
       "</style><table id=\"T_92d957fa_c7e3_11eb_ada4_e9cce7681f15\" ><thead>    <tr>        <th class=\"blank level0\" ></th>        <th class=\"col_heading level0 col0\" >Total Count</th>        <th class=\"col_heading level0 col1\" >Percentage of Players</th>    </tr>    <tr>        <th class=\"index_name level0\" >Gender</th>        <th class=\"blank\" ></th>        <th class=\"blank\" ></th>    </tr></thead><tbody>\n",
       "                <tr>\n",
       "                        <th id=\"T_92d957fa_c7e3_11eb_ada4_e9cce7681f15level0_row0\" class=\"row_heading level0 row0\" >Female</th>\n",
       "                        <td id=\"T_92d957fa_c7e3_11eb_ada4_e9cce7681f15row0_col0\" class=\"data row0 col0\" >81</td>\n",
       "                        <td id=\"T_92d957fa_c7e3_11eb_ada4_e9cce7681f15row0_col1\" class=\"data row0 col1\" >14.06%</td>\n",
       "            </tr>\n",
       "            <tr>\n",
       "                        <th id=\"T_92d957fa_c7e3_11eb_ada4_e9cce7681f15level0_row1\" class=\"row_heading level0 row1\" >Male</th>\n",
       "                        <td id=\"T_92d957fa_c7e3_11eb_ada4_e9cce7681f15row1_col0\" class=\"data row1 col0\" >484</td>\n",
       "                        <td id=\"T_92d957fa_c7e3_11eb_ada4_e9cce7681f15row1_col1\" class=\"data row1 col1\" >84.03%</td>\n",
       "            </tr>\n",
       "            <tr>\n",
       "                        <th id=\"T_92d957fa_c7e3_11eb_ada4_e9cce7681f15level0_row2\" class=\"row_heading level0 row2\" >Other / Non-Disclosed</th>\n",
       "                        <td id=\"T_92d957fa_c7e3_11eb_ada4_e9cce7681f15row2_col0\" class=\"data row2 col0\" >11</td>\n",
       "                        <td id=\"T_92d957fa_c7e3_11eb_ada4_e9cce7681f15row2_col1\" class=\"data row2 col1\" >1.91%</td>\n",
       "            </tr>\n",
       "    </tbody></table>"
      ],
      "text/plain": [
       "<pandas.io.formats.style.Styler at 0x1a8ec8d5280>"
      ]
     },
     "execution_count": 4,
     "metadata": {},
     "output_type": "execute_result"
    }
   ],
   "source": [
    "## Group the data according to gender for easier analysis\n",
    "gender_info = purchase_data.groupby(\"Gender\")\n",
    "\n",
    "## Count the # of unique entires in screen-name column for total # of unique users of each gender\n",
    "gender_count = gender_info.nunique()[\"SN\"]\n",
    "\n",
    "## Calculate the percentage of total users for each gender \n",
    "gender_percents = gender_count / count * 100\n",
    "\n",
    "## Store in data frame, format, and print ------also, I assume the index name doesn't really matter so I'm going to leave it for clarity's sake\n",
    "gender_analysis_df = pd.DataFrame({\"Total Count\" : gender_count, \"Percentage of Players\" : gender_percents})\n",
    "gender_formatted_df = gender_analysis_df.style.format({'Percentage of Players':'{0:,.2f}%'})\n",
    "gender_formatted_df"
   ]
  },
  {
   "cell_type": "code",
   "execution_count": 5,
   "metadata": {},
   "outputs": [
    {
     "data": {
      "text/html": [
       "<style  type=\"text/css\" >\n",
       "</style><table id=\"T_984989cc_c7e3_11eb_afc3_e9cce7681f15\" ><thead>    <tr>        <th class=\"blank level0\" ></th>        <th class=\"col_heading level0 col0\" >Purchase Count</th>        <th class=\"col_heading level0 col1\" >Average Purchase Price</th>        <th class=\"col_heading level0 col2\" >Total Purchase Value</th>        <th class=\"col_heading level0 col3\" >Avg Total Purchase per Person</th>    </tr>    <tr>        <th class=\"index_name level0\" >Gender</th>        <th class=\"blank\" ></th>        <th class=\"blank\" ></th>        <th class=\"blank\" ></th>        <th class=\"blank\" ></th>    </tr></thead><tbody>\n",
       "                <tr>\n",
       "                        <th id=\"T_984989cc_c7e3_11eb_afc3_e9cce7681f15level0_row0\" class=\"row_heading level0 row0\" >Female</th>\n",
       "                        <td id=\"T_984989cc_c7e3_11eb_afc3_e9cce7681f15row0_col0\" class=\"data row0 col0\" >113</td>\n",
       "                        <td id=\"T_984989cc_c7e3_11eb_afc3_e9cce7681f15row0_col1\" class=\"data row0 col1\" >$3.20</td>\n",
       "                        <td id=\"T_984989cc_c7e3_11eb_afc3_e9cce7681f15row0_col2\" class=\"data row0 col2\" >$361.94</td>\n",
       "                        <td id=\"T_984989cc_c7e3_11eb_afc3_e9cce7681f15row0_col3\" class=\"data row0 col3\" >$4.47</td>\n",
       "            </tr>\n",
       "            <tr>\n",
       "                        <th id=\"T_984989cc_c7e3_11eb_afc3_e9cce7681f15level0_row1\" class=\"row_heading level0 row1\" >Male</th>\n",
       "                        <td id=\"T_984989cc_c7e3_11eb_afc3_e9cce7681f15row1_col0\" class=\"data row1 col0\" >652</td>\n",
       "                        <td id=\"T_984989cc_c7e3_11eb_afc3_e9cce7681f15row1_col1\" class=\"data row1 col1\" >$3.02</td>\n",
       "                        <td id=\"T_984989cc_c7e3_11eb_afc3_e9cce7681f15row1_col2\" class=\"data row1 col2\" >$1,967.64</td>\n",
       "                        <td id=\"T_984989cc_c7e3_11eb_afc3_e9cce7681f15row1_col3\" class=\"data row1 col3\" >$4.07</td>\n",
       "            </tr>\n",
       "            <tr>\n",
       "                        <th id=\"T_984989cc_c7e3_11eb_afc3_e9cce7681f15level0_row2\" class=\"row_heading level0 row2\" >Other / Non-Disclosed</th>\n",
       "                        <td id=\"T_984989cc_c7e3_11eb_afc3_e9cce7681f15row2_col0\" class=\"data row2 col0\" >15</td>\n",
       "                        <td id=\"T_984989cc_c7e3_11eb_afc3_e9cce7681f15row2_col1\" class=\"data row2 col1\" >$3.35</td>\n",
       "                        <td id=\"T_984989cc_c7e3_11eb_afc3_e9cce7681f15row2_col2\" class=\"data row2 col2\" >$50.19</td>\n",
       "                        <td id=\"T_984989cc_c7e3_11eb_afc3_e9cce7681f15row2_col3\" class=\"data row2 col3\" >$4.56</td>\n",
       "            </tr>\n",
       "    </tbody></table>"
      ],
      "text/plain": [
       "<pandas.io.formats.style.Styler at 0x1a8ec8edf70>"
      ]
     },
     "execution_count": 5,
     "metadata": {},
     "output_type": "execute_result"
    }
   ],
   "source": [
    "## Count the purchases of each gender by ID\n",
    "gender_purchase_count = gender_info[\"Purchase ID\"].count()\n",
    "\n",
    "## Sum the Price column to get the total for each gender\n",
    "gender_purchase_tot = gender_info[\"Price\"].sum()\n",
    "\n",
    "## Use to mean function to find the average purchase price per gender\n",
    "gender_purchase_avg = gender_info[\"Price\"].mean()\n",
    "\n",
    "## Divide the Purchase totals by gender by the # of unique entires in screen-name column per gender to find total purchase average per person per gender\n",
    "total_purchase_avg = gender_purchase_tot / gender_count\n",
    "\n",
    "## Shove into data frame, format, and print\n",
    "gender_purchase_df = pd.DataFrame({\"Purchase Count\" : gender_purchase_count, \n",
    "                                   \"Average Purchase Price\" : gender_purchase_avg, \n",
    "                                   \"Total Purchase Value\" : gender_purchase_tot, \n",
    "                                   \"Avg Total Purchase per Person\" : total_purchase_avg})\n",
    "gender_purchase_formatted_df = gender_purchase_df.style.format({\"Average Purchase Price\" : '${0:,.2f}', \n",
    "                                                                \"Total Purchase Value\" : '${0:,.2f}', \n",
    "                                                                \"Avg Total Purchase per Person\" : '${0:,.2f}'})\n",
    "gender_purchase_formatted_df"
   ]
  },
  {
   "cell_type": "code",
   "execution_count": 6,
   "metadata": {},
   "outputs": [
    {
     "data": {
      "text/html": [
       "<style  type=\"text/css\" >\n",
       "</style><table id=\"T_9ebe38f5_c7e3_11eb_a32b_e9cce7681f15\" ><thead>    <tr>        <th class=\"blank level0\" ></th>        <th class=\"col_heading level0 col0\" >Total Count</th>        <th class=\"col_heading level0 col1\" >Percentage of Players</th>    </tr>    <tr>        <th class=\"index_name level0\" >Age Ranges</th>        <th class=\"blank\" ></th>        <th class=\"blank\" ></th>    </tr></thead><tbody>\n",
       "                <tr>\n",
       "                        <th id=\"T_9ebe38f5_c7e3_11eb_a32b_e9cce7681f15level0_row0\" class=\"row_heading level0 row0\" ><10</th>\n",
       "                        <td id=\"T_9ebe38f5_c7e3_11eb_a32b_e9cce7681f15row0_col0\" class=\"data row0 col0\" >17</td>\n",
       "                        <td id=\"T_9ebe38f5_c7e3_11eb_a32b_e9cce7681f15row0_col1\" class=\"data row0 col1\" >2.95%</td>\n",
       "            </tr>\n",
       "            <tr>\n",
       "                        <th id=\"T_9ebe38f5_c7e3_11eb_a32b_e9cce7681f15level0_row1\" class=\"row_heading level0 row1\" >10-14</th>\n",
       "                        <td id=\"T_9ebe38f5_c7e3_11eb_a32b_e9cce7681f15row1_col0\" class=\"data row1 col0\" >22</td>\n",
       "                        <td id=\"T_9ebe38f5_c7e3_11eb_a32b_e9cce7681f15row1_col1\" class=\"data row1 col1\" >3.82%</td>\n",
       "            </tr>\n",
       "            <tr>\n",
       "                        <th id=\"T_9ebe38f5_c7e3_11eb_a32b_e9cce7681f15level0_row2\" class=\"row_heading level0 row2\" >15-19</th>\n",
       "                        <td id=\"T_9ebe38f5_c7e3_11eb_a32b_e9cce7681f15row2_col0\" class=\"data row2 col0\" >107</td>\n",
       "                        <td id=\"T_9ebe38f5_c7e3_11eb_a32b_e9cce7681f15row2_col1\" class=\"data row2 col1\" >18.58%</td>\n",
       "            </tr>\n",
       "            <tr>\n",
       "                        <th id=\"T_9ebe38f5_c7e3_11eb_a32b_e9cce7681f15level0_row3\" class=\"row_heading level0 row3\" >20-24</th>\n",
       "                        <td id=\"T_9ebe38f5_c7e3_11eb_a32b_e9cce7681f15row3_col0\" class=\"data row3 col0\" >258</td>\n",
       "                        <td id=\"T_9ebe38f5_c7e3_11eb_a32b_e9cce7681f15row3_col1\" class=\"data row3 col1\" >44.79%</td>\n",
       "            </tr>\n",
       "            <tr>\n",
       "                        <th id=\"T_9ebe38f5_c7e3_11eb_a32b_e9cce7681f15level0_row4\" class=\"row_heading level0 row4\" >25-29</th>\n",
       "                        <td id=\"T_9ebe38f5_c7e3_11eb_a32b_e9cce7681f15row4_col0\" class=\"data row4 col0\" >77</td>\n",
       "                        <td id=\"T_9ebe38f5_c7e3_11eb_a32b_e9cce7681f15row4_col1\" class=\"data row4 col1\" >13.37%</td>\n",
       "            </tr>\n",
       "            <tr>\n",
       "                        <th id=\"T_9ebe38f5_c7e3_11eb_a32b_e9cce7681f15level0_row5\" class=\"row_heading level0 row5\" >30-34</th>\n",
       "                        <td id=\"T_9ebe38f5_c7e3_11eb_a32b_e9cce7681f15row5_col0\" class=\"data row5 col0\" >52</td>\n",
       "                        <td id=\"T_9ebe38f5_c7e3_11eb_a32b_e9cce7681f15row5_col1\" class=\"data row5 col1\" >9.03%</td>\n",
       "            </tr>\n",
       "            <tr>\n",
       "                        <th id=\"T_9ebe38f5_c7e3_11eb_a32b_e9cce7681f15level0_row6\" class=\"row_heading level0 row6\" >35-39</th>\n",
       "                        <td id=\"T_9ebe38f5_c7e3_11eb_a32b_e9cce7681f15row6_col0\" class=\"data row6 col0\" >31</td>\n",
       "                        <td id=\"T_9ebe38f5_c7e3_11eb_a32b_e9cce7681f15row6_col1\" class=\"data row6 col1\" >5.38%</td>\n",
       "            </tr>\n",
       "            <tr>\n",
       "                        <th id=\"T_9ebe38f5_c7e3_11eb_a32b_e9cce7681f15level0_row7\" class=\"row_heading level0 row7\" >40+</th>\n",
       "                        <td id=\"T_9ebe38f5_c7e3_11eb_a32b_e9cce7681f15row7_col0\" class=\"data row7 col0\" >12</td>\n",
       "                        <td id=\"T_9ebe38f5_c7e3_11eb_a32b_e9cce7681f15row7_col1\" class=\"data row7 col1\" >2.08%</td>\n",
       "            </tr>\n",
       "    </tbody></table>"
      ],
      "text/plain": [
       "<pandas.io.formats.style.Styler at 0x1a8efa21220>"
      ]
     },
     "execution_count": 6,
     "metadata": {},
     "output_type": "execute_result"
    }
   ],
   "source": [
    "## Create bins and bin names\n",
    "bins = [0,9,14,19,24,29,34,39, 50]\n",
    "names = [\"<10\", \"10-14\", \"15-19\", \"20-24\", \"25-29\", \"30-34\", \"35-39\", \"40+\"]\n",
    "\n",
    "## Create a bin column for easier grouping\n",
    "purchase_data[\"Age Ranges\"] = pd.cut(purchase_data[\"Age\"],bins, labels=names)\n",
    "\n",
    "## Group the data according to age in appropraite bin\n",
    "age_df = purchase_data.groupby(\"Age Ranges\")\n",
    "\n",
    "## Count total for each bin by unique screen-name\n",
    "total_age_count = age_df[\"SN\"].nunique()\n",
    "\n",
    "## Calc the percentage of total users for each bin total\n",
    "age_percent = total_age_count / count * 100\n",
    "\n",
    "## Shove into data frame, format, and print\n",
    "age_demographics_df = pd.DataFrame({\"Total Count\" : total_age_count, \"Percentage of Players\" : age_percent})\n",
    "age_demogr_formatted_df = age_demographics_df.style.format({\"Percentage of Players\" :'{0:,.2f}%'})\n",
    "age_demogr_formatted_df"
   ]
  },
  {
   "cell_type": "code",
   "execution_count": 7,
   "metadata": {},
   "outputs": [
    {
     "data": {
      "text/html": [
       "<style  type=\"text/css\" >\n",
       "</style><table id=\"T_a8527523_c7e3_11eb_82f4_e9cce7681f15\" ><thead>    <tr>        <th class=\"blank level0\" ></th>        <th class=\"col_heading level0 col0\" >Purchase Count</th>        <th class=\"col_heading level0 col1\" >Average Purchase Price</th>        <th class=\"col_heading level0 col2\" >Total Purchase Value</th>        <th class=\"col_heading level0 col3\" >Avg Total Purchase per Person</th>    </tr>    <tr>        <th class=\"index_name level0\" >Age Ranges</th>        <th class=\"blank\" ></th>        <th class=\"blank\" ></th>        <th class=\"blank\" ></th>        <th class=\"blank\" ></th>    </tr></thead><tbody>\n",
       "                <tr>\n",
       "                        <th id=\"T_a8527523_c7e3_11eb_82f4_e9cce7681f15level0_row0\" class=\"row_heading level0 row0\" ><10</th>\n",
       "                        <td id=\"T_a8527523_c7e3_11eb_82f4_e9cce7681f15row0_col0\" class=\"data row0 col0\" >23</td>\n",
       "                        <td id=\"T_a8527523_c7e3_11eb_82f4_e9cce7681f15row0_col1\" class=\"data row0 col1\" >$3.35</td>\n",
       "                        <td id=\"T_a8527523_c7e3_11eb_82f4_e9cce7681f15row0_col2\" class=\"data row0 col2\" >$77.13</td>\n",
       "                        <td id=\"T_a8527523_c7e3_11eb_82f4_e9cce7681f15row0_col3\" class=\"data row0 col3\" >$4.54</td>\n",
       "            </tr>\n",
       "            <tr>\n",
       "                        <th id=\"T_a8527523_c7e3_11eb_82f4_e9cce7681f15level0_row1\" class=\"row_heading level0 row1\" >10-14</th>\n",
       "                        <td id=\"T_a8527523_c7e3_11eb_82f4_e9cce7681f15row1_col0\" class=\"data row1 col0\" >28</td>\n",
       "                        <td id=\"T_a8527523_c7e3_11eb_82f4_e9cce7681f15row1_col1\" class=\"data row1 col1\" >$2.96</td>\n",
       "                        <td id=\"T_a8527523_c7e3_11eb_82f4_e9cce7681f15row1_col2\" class=\"data row1 col2\" >$82.78</td>\n",
       "                        <td id=\"T_a8527523_c7e3_11eb_82f4_e9cce7681f15row1_col3\" class=\"data row1 col3\" >$3.76</td>\n",
       "            </tr>\n",
       "            <tr>\n",
       "                        <th id=\"T_a8527523_c7e3_11eb_82f4_e9cce7681f15level0_row2\" class=\"row_heading level0 row2\" >15-19</th>\n",
       "                        <td id=\"T_a8527523_c7e3_11eb_82f4_e9cce7681f15row2_col0\" class=\"data row2 col0\" >136</td>\n",
       "                        <td id=\"T_a8527523_c7e3_11eb_82f4_e9cce7681f15row2_col1\" class=\"data row2 col1\" >$3.04</td>\n",
       "                        <td id=\"T_a8527523_c7e3_11eb_82f4_e9cce7681f15row2_col2\" class=\"data row2 col2\" >$412.89</td>\n",
       "                        <td id=\"T_a8527523_c7e3_11eb_82f4_e9cce7681f15row2_col3\" class=\"data row2 col3\" >$3.86</td>\n",
       "            </tr>\n",
       "            <tr>\n",
       "                        <th id=\"T_a8527523_c7e3_11eb_82f4_e9cce7681f15level0_row3\" class=\"row_heading level0 row3\" >20-24</th>\n",
       "                        <td id=\"T_a8527523_c7e3_11eb_82f4_e9cce7681f15row3_col0\" class=\"data row3 col0\" >365</td>\n",
       "                        <td id=\"T_a8527523_c7e3_11eb_82f4_e9cce7681f15row3_col1\" class=\"data row3 col1\" >$3.05</td>\n",
       "                        <td id=\"T_a8527523_c7e3_11eb_82f4_e9cce7681f15row3_col2\" class=\"data row3 col2\" >$1,114.06</td>\n",
       "                        <td id=\"T_a8527523_c7e3_11eb_82f4_e9cce7681f15row3_col3\" class=\"data row3 col3\" >$4.32</td>\n",
       "            </tr>\n",
       "            <tr>\n",
       "                        <th id=\"T_a8527523_c7e3_11eb_82f4_e9cce7681f15level0_row4\" class=\"row_heading level0 row4\" >25-29</th>\n",
       "                        <td id=\"T_a8527523_c7e3_11eb_82f4_e9cce7681f15row4_col0\" class=\"data row4 col0\" >101</td>\n",
       "                        <td id=\"T_a8527523_c7e3_11eb_82f4_e9cce7681f15row4_col1\" class=\"data row4 col1\" >$2.90</td>\n",
       "                        <td id=\"T_a8527523_c7e3_11eb_82f4_e9cce7681f15row4_col2\" class=\"data row4 col2\" >$293.00</td>\n",
       "                        <td id=\"T_a8527523_c7e3_11eb_82f4_e9cce7681f15row4_col3\" class=\"data row4 col3\" >$3.81</td>\n",
       "            </tr>\n",
       "            <tr>\n",
       "                        <th id=\"T_a8527523_c7e3_11eb_82f4_e9cce7681f15level0_row5\" class=\"row_heading level0 row5\" >30-34</th>\n",
       "                        <td id=\"T_a8527523_c7e3_11eb_82f4_e9cce7681f15row5_col0\" class=\"data row5 col0\" >73</td>\n",
       "                        <td id=\"T_a8527523_c7e3_11eb_82f4_e9cce7681f15row5_col1\" class=\"data row5 col1\" >$2.93</td>\n",
       "                        <td id=\"T_a8527523_c7e3_11eb_82f4_e9cce7681f15row5_col2\" class=\"data row5 col2\" >$214.00</td>\n",
       "                        <td id=\"T_a8527523_c7e3_11eb_82f4_e9cce7681f15row5_col3\" class=\"data row5 col3\" >$4.12</td>\n",
       "            </tr>\n",
       "            <tr>\n",
       "                        <th id=\"T_a8527523_c7e3_11eb_82f4_e9cce7681f15level0_row6\" class=\"row_heading level0 row6\" >35-39</th>\n",
       "                        <td id=\"T_a8527523_c7e3_11eb_82f4_e9cce7681f15row6_col0\" class=\"data row6 col0\" >41</td>\n",
       "                        <td id=\"T_a8527523_c7e3_11eb_82f4_e9cce7681f15row6_col1\" class=\"data row6 col1\" >$3.60</td>\n",
       "                        <td id=\"T_a8527523_c7e3_11eb_82f4_e9cce7681f15row6_col2\" class=\"data row6 col2\" >$147.67</td>\n",
       "                        <td id=\"T_a8527523_c7e3_11eb_82f4_e9cce7681f15row6_col3\" class=\"data row6 col3\" >$4.76</td>\n",
       "            </tr>\n",
       "            <tr>\n",
       "                        <th id=\"T_a8527523_c7e3_11eb_82f4_e9cce7681f15level0_row7\" class=\"row_heading level0 row7\" >40+</th>\n",
       "                        <td id=\"T_a8527523_c7e3_11eb_82f4_e9cce7681f15row7_col0\" class=\"data row7 col0\" >13</td>\n",
       "                        <td id=\"T_a8527523_c7e3_11eb_82f4_e9cce7681f15row7_col1\" class=\"data row7 col1\" >$2.94</td>\n",
       "                        <td id=\"T_a8527523_c7e3_11eb_82f4_e9cce7681f15row7_col2\" class=\"data row7 col2\" >$38.24</td>\n",
       "                        <td id=\"T_a8527523_c7e3_11eb_82f4_e9cce7681f15row7_col3\" class=\"data row7 col3\" >$3.19</td>\n",
       "            </tr>\n",
       "    </tbody></table>"
      ],
      "text/plain": [
       "<pandas.io.formats.style.Styler at 0x1a8efb46fd0>"
      ]
     },
     "execution_count": 7,
     "metadata": {},
     "output_type": "execute_result"
    }
   ],
   "source": [
    "## Count the number of purchases per age group\n",
    "number_of_purches_age = age_df[\"Purchase ID\"].count()\n",
    "\n",
    "## Sum up the prices\n",
    "total_value_age = age_df[\"Price\"].sum()\n",
    "\n",
    "## Find the average purchase value\n",
    "avg_purchace_val_age = total_value_age / number_of_purches_age\n",
    "\n",
    "## Find the average total purchase per person per age group\n",
    "tot_purchase_avg_age = total_value_age / total_age_count\n",
    "\n",
    "## Shove into data frame, format data, and print\n",
    "age_purchasing_analysis_df = pd.DataFrame({\"Purchase Count\" : number_of_purches_age, \n",
    "                                            \"Average Purchase Price\" : avg_purchace_val_age, \n",
    "                                            \"Total Purchase Value\" : total_value_age, \n",
    "                                            \"Avg Total Purchase per Person\" : tot_purchase_avg_age})\n",
    "age_purchasing_fomratted_df = age_purchasing_analysis_df.style.format({\"Average Purchase Price\" : '${0:,.2f}', \n",
    "                                                                       \"Total Purchase Value\" : '${0:,.2f}', \n",
    "                                                                       \"Avg Total Purchase per Person\" : '${0:,.2f}'})\n",
    "age_purchasing_fomratted_df"
   ]
  },
  {
   "cell_type": "code",
   "execution_count": 8,
   "metadata": {},
   "outputs": [
    {
     "data": {
      "text/html": [
       "<style  type=\"text/css\" >\n",
       "</style><table id=\"T_af0f992e_c7e3_11eb_aac1_e9cce7681f15\" ><thead>    <tr>        <th class=\"blank level0\" ></th>        <th class=\"col_heading level0 col0\" >Purchase Count</th>        <th class=\"col_heading level0 col1\" >Average Purchase Price</th>        <th class=\"col_heading level0 col2\" >Total Purchase Value</th>    </tr>    <tr>        <th class=\"index_name level0\" >SN</th>        <th class=\"blank\" ></th>        <th class=\"blank\" ></th>        <th class=\"blank\" ></th>    </tr></thead><tbody>\n",
       "                <tr>\n",
       "                        <th id=\"T_af0f992e_c7e3_11eb_aac1_e9cce7681f15level0_row0\" class=\"row_heading level0 row0\" >Lisosia93</th>\n",
       "                        <td id=\"T_af0f992e_c7e3_11eb_aac1_e9cce7681f15row0_col0\" class=\"data row0 col0\" >5</td>\n",
       "                        <td id=\"T_af0f992e_c7e3_11eb_aac1_e9cce7681f15row0_col1\" class=\"data row0 col1\" >$3.79</td>\n",
       "                        <td id=\"T_af0f992e_c7e3_11eb_aac1_e9cce7681f15row0_col2\" class=\"data row0 col2\" >$18.96</td>\n",
       "            </tr>\n",
       "            <tr>\n",
       "                        <th id=\"T_af0f992e_c7e3_11eb_aac1_e9cce7681f15level0_row1\" class=\"row_heading level0 row1\" >Idastidru52</th>\n",
       "                        <td id=\"T_af0f992e_c7e3_11eb_aac1_e9cce7681f15row1_col0\" class=\"data row1 col0\" >4</td>\n",
       "                        <td id=\"T_af0f992e_c7e3_11eb_aac1_e9cce7681f15row1_col1\" class=\"data row1 col1\" >$3.86</td>\n",
       "                        <td id=\"T_af0f992e_c7e3_11eb_aac1_e9cce7681f15row1_col2\" class=\"data row1 col2\" >$15.45</td>\n",
       "            </tr>\n",
       "            <tr>\n",
       "                        <th id=\"T_af0f992e_c7e3_11eb_aac1_e9cce7681f15level0_row2\" class=\"row_heading level0 row2\" >Chamjask73</th>\n",
       "                        <td id=\"T_af0f992e_c7e3_11eb_aac1_e9cce7681f15row2_col0\" class=\"data row2 col0\" >3</td>\n",
       "                        <td id=\"T_af0f992e_c7e3_11eb_aac1_e9cce7681f15row2_col1\" class=\"data row2 col1\" >$4.61</td>\n",
       "                        <td id=\"T_af0f992e_c7e3_11eb_aac1_e9cce7681f15row2_col2\" class=\"data row2 col2\" >$13.83</td>\n",
       "            </tr>\n",
       "            <tr>\n",
       "                        <th id=\"T_af0f992e_c7e3_11eb_aac1_e9cce7681f15level0_row3\" class=\"row_heading level0 row3\" >Iral74</th>\n",
       "                        <td id=\"T_af0f992e_c7e3_11eb_aac1_e9cce7681f15row3_col0\" class=\"data row3 col0\" >4</td>\n",
       "                        <td id=\"T_af0f992e_c7e3_11eb_aac1_e9cce7681f15row3_col1\" class=\"data row3 col1\" >$3.40</td>\n",
       "                        <td id=\"T_af0f992e_c7e3_11eb_aac1_e9cce7681f15row3_col2\" class=\"data row3 col2\" >$13.62</td>\n",
       "            </tr>\n",
       "            <tr>\n",
       "                        <th id=\"T_af0f992e_c7e3_11eb_aac1_e9cce7681f15level0_row4\" class=\"row_heading level0 row4\" >Iskadarya95</th>\n",
       "                        <td id=\"T_af0f992e_c7e3_11eb_aac1_e9cce7681f15row4_col0\" class=\"data row4 col0\" >3</td>\n",
       "                        <td id=\"T_af0f992e_c7e3_11eb_aac1_e9cce7681f15row4_col1\" class=\"data row4 col1\" >$4.37</td>\n",
       "                        <td id=\"T_af0f992e_c7e3_11eb_aac1_e9cce7681f15row4_col2\" class=\"data row4 col2\" >$13.10</td>\n",
       "            </tr>\n",
       "    </tbody></table>"
      ],
      "text/plain": [
       "<pandas.io.formats.style.Styler at 0x1a8ef8726d0>"
      ]
     },
     "execution_count": 8,
     "metadata": {},
     "output_type": "execute_result"
    }
   ],
   "source": [
    "## Group by screen-name for easier analysis\n",
    "sn_df = purchase_data.groupby(\"SN\")\n",
    "\n",
    "## count the number of purchases per spender using purchase ID column\n",
    "number_of_purchases = sn_df[\"Purchase ID\"].count()\n",
    "\n",
    "## Use sum function to add price totals per SN\n",
    "total_spent_sn = sn_df[\"Price\"].sum()\n",
    "\n",
    "## Find the average purchase total per person\n",
    "avg_purchase_sn = total_spent_sn / number_of_purchases\n",
    "\n",
    "## shove into data frame, format, and print\n",
    "top_spenders_df = pd.DataFrame({\"Purchase Count\" : number_of_purchases, \n",
    "                                \"Average Purchase Price\" : avg_purchase_sn,\n",
    "                                \"Total Purchase Value\" : total_spent_sn})\n",
    "top_spenders_formatted_head_df = top_spenders_df.sort_values(by =[\"Total Purchase Value\"], ascending=False).head(5)\n",
    "top_spenders_formatted_df = top_spenders_formatted_head_df.style.format({\"Average Purchase Price\": '${0:,.2f}',\n",
    "                                                          \"Total Purchase Value\" : '${0:,.2f}'})\n",
    "top_spenders_formatted_df"
   ]
  },
  {
   "cell_type": "code",
   "execution_count": 9,
   "metadata": {},
   "outputs": [
    {
     "data": {
      "text/html": [
       "<style  type=\"text/css\" >\n",
       "</style><table id=\"T_b50cfd2e_c7e3_11eb_b376_e9cce7681f15\" ><thead>    <tr>        <th class=\"blank\" ></th>        <th class=\"blank level0\" ></th>        <th class=\"col_heading level0 col0\" >Purchase Count</th>        <th class=\"col_heading level0 col1\" >Item Price</th>        <th class=\"col_heading level0 col2\" >Total Purchase Value</th>    </tr>    <tr>        <th class=\"index_name level0\" >Item ID</th>        <th class=\"index_name level1\" >Item Name</th>        <th class=\"blank\" ></th>        <th class=\"blank\" ></th>        <th class=\"blank\" ></th>    </tr></thead><tbody>\n",
       "                <tr>\n",
       "                        <th id=\"T_b50cfd2e_c7e3_11eb_b376_e9cce7681f15level0_row0\" class=\"row_heading level0 row0\" >92</th>\n",
       "                        <th id=\"T_b50cfd2e_c7e3_11eb_b376_e9cce7681f15level1_row0\" class=\"row_heading level1 row0\" >Final Critic</th>\n",
       "                        <td id=\"T_b50cfd2e_c7e3_11eb_b376_e9cce7681f15row0_col0\" class=\"data row0 col0\" >13</td>\n",
       "                        <td id=\"T_b50cfd2e_c7e3_11eb_b376_e9cce7681f15row0_col1\" class=\"data row0 col1\" >$4.61</td>\n",
       "                        <td id=\"T_b50cfd2e_c7e3_11eb_b376_e9cce7681f15row0_col2\" class=\"data row0 col2\" >$59.99</td>\n",
       "            </tr>\n",
       "            <tr>\n",
       "                        <th id=\"T_b50cfd2e_c7e3_11eb_b376_e9cce7681f15level0_row1\" class=\"row_heading level0 row1\" >178</th>\n",
       "                        <th id=\"T_b50cfd2e_c7e3_11eb_b376_e9cce7681f15level1_row1\" class=\"row_heading level1 row1\" >Oathbreaker, Last Hope of the Breaking Storm</th>\n",
       "                        <td id=\"T_b50cfd2e_c7e3_11eb_b376_e9cce7681f15row1_col0\" class=\"data row1 col0\" >12</td>\n",
       "                        <td id=\"T_b50cfd2e_c7e3_11eb_b376_e9cce7681f15row1_col1\" class=\"data row1 col1\" >$4.23</td>\n",
       "                        <td id=\"T_b50cfd2e_c7e3_11eb_b376_e9cce7681f15row1_col2\" class=\"data row1 col2\" >$50.76</td>\n",
       "            </tr>\n",
       "            <tr>\n",
       "                        <th id=\"T_b50cfd2e_c7e3_11eb_b376_e9cce7681f15level0_row2\" class=\"row_heading level0 row2\" >145</th>\n",
       "                        <th id=\"T_b50cfd2e_c7e3_11eb_b376_e9cce7681f15level1_row2\" class=\"row_heading level1 row2\" >Fiery Glass Crusader</th>\n",
       "                        <td id=\"T_b50cfd2e_c7e3_11eb_b376_e9cce7681f15row2_col0\" class=\"data row2 col0\" >9</td>\n",
       "                        <td id=\"T_b50cfd2e_c7e3_11eb_b376_e9cce7681f15row2_col1\" class=\"data row2 col1\" >$4.58</td>\n",
       "                        <td id=\"T_b50cfd2e_c7e3_11eb_b376_e9cce7681f15row2_col2\" class=\"data row2 col2\" >$41.22</td>\n",
       "            </tr>\n",
       "            <tr>\n",
       "                        <th id=\"T_b50cfd2e_c7e3_11eb_b376_e9cce7681f15level0_row3\" class=\"row_heading level0 row3\" >132</th>\n",
       "                        <th id=\"T_b50cfd2e_c7e3_11eb_b376_e9cce7681f15level1_row3\" class=\"row_heading level1 row3\" >Persuasion</th>\n",
       "                        <td id=\"T_b50cfd2e_c7e3_11eb_b376_e9cce7681f15row3_col0\" class=\"data row3 col0\" >9</td>\n",
       "                        <td id=\"T_b50cfd2e_c7e3_11eb_b376_e9cce7681f15row3_col1\" class=\"data row3 col1\" >$3.22</td>\n",
       "                        <td id=\"T_b50cfd2e_c7e3_11eb_b376_e9cce7681f15row3_col2\" class=\"data row3 col2\" >$28.99</td>\n",
       "            </tr>\n",
       "            <tr>\n",
       "                        <th id=\"T_b50cfd2e_c7e3_11eb_b376_e9cce7681f15level0_row4\" class=\"row_heading level0 row4\" >108</th>\n",
       "                        <th id=\"T_b50cfd2e_c7e3_11eb_b376_e9cce7681f15level1_row4\" class=\"row_heading level1 row4\" >Extraction, Quickblade Of Trembling Hands</th>\n",
       "                        <td id=\"T_b50cfd2e_c7e3_11eb_b376_e9cce7681f15row4_col0\" class=\"data row4 col0\" >9</td>\n",
       "                        <td id=\"T_b50cfd2e_c7e3_11eb_b376_e9cce7681f15row4_col1\" class=\"data row4 col1\" >$3.53</td>\n",
       "                        <td id=\"T_b50cfd2e_c7e3_11eb_b376_e9cce7681f15row4_col2\" class=\"data row4 col2\" >$31.77</td>\n",
       "            </tr>\n",
       "    </tbody></table>"
      ],
      "text/plain": [
       "<pandas.io.formats.style.Styler at 0x1a8ee99f700>"
      ]
     },
     "execution_count": 9,
     "metadata": {},
     "output_type": "execute_result"
    }
   ],
   "source": [
    "## Group according to item Id and Item name\n",
    "popular_df = purchase_data.groupby([\"Item ID\", \"Item Name\"])\n",
    "\n",
    "## Count the number of purchases for each item\n",
    "count_purchases = popular_df[\"Purchase ID\"].count()\n",
    "\n",
    "## Calcaulte the total purchase value for each item\n",
    "total_purchase_value_pop = popular_df[\"Price\"].sum()\n",
    "\n",
    "## Put into a data frame, format, and print\n",
    "most_popular_df = pd.DataFrame({\"Purchase Count\" : count_purchases,\n",
    "                               \"Item Price\" : total_purchase_value_pop / count_purchases,\n",
    "                               \"Total Purchase Value\" : total_purchase_value_pop})\n",
    "most_popular_head_df = most_popular_df.sort_values(by =[\"Purchase Count\"], ascending=False).head(5)\n",
    "most_popular_formatted_df = most_popular_head_df.style.format({\"Item Price\" : '${0:,.2f}',\n",
    "                                                              \"Total Purchase Value\" : '${0:,.2f}'})\n",
    "most_popular_formatted_df"
   ]
  },
  {
   "cell_type": "code",
   "execution_count": 10,
   "metadata": {},
   "outputs": [
    {
     "data": {
      "text/html": [
       "<style  type=\"text/css\" >\n",
       "</style><table id=\"T_ba809e4e_c7e3_11eb_a541_e9cce7681f15\" ><thead>    <tr>        <th class=\"blank\" ></th>        <th class=\"blank level0\" ></th>        <th class=\"col_heading level0 col0\" >Purchase Count</th>        <th class=\"col_heading level0 col1\" >Item Price</th>        <th class=\"col_heading level0 col2\" >Total Purchase Value</th>    </tr>    <tr>        <th class=\"index_name level0\" >Item ID</th>        <th class=\"index_name level1\" >Item Name</th>        <th class=\"blank\" ></th>        <th class=\"blank\" ></th>        <th class=\"blank\" ></th>    </tr></thead><tbody>\n",
       "                <tr>\n",
       "                        <th id=\"T_ba809e4e_c7e3_11eb_a541_e9cce7681f15level0_row0\" class=\"row_heading level0 row0\" >92</th>\n",
       "                        <th id=\"T_ba809e4e_c7e3_11eb_a541_e9cce7681f15level1_row0\" class=\"row_heading level1 row0\" >Final Critic</th>\n",
       "                        <td id=\"T_ba809e4e_c7e3_11eb_a541_e9cce7681f15row0_col0\" class=\"data row0 col0\" >13</td>\n",
       "                        <td id=\"T_ba809e4e_c7e3_11eb_a541_e9cce7681f15row0_col1\" class=\"data row0 col1\" >$4.61</td>\n",
       "                        <td id=\"T_ba809e4e_c7e3_11eb_a541_e9cce7681f15row0_col2\" class=\"data row0 col2\" >$59.99</td>\n",
       "            </tr>\n",
       "            <tr>\n",
       "                        <th id=\"T_ba809e4e_c7e3_11eb_a541_e9cce7681f15level0_row1\" class=\"row_heading level0 row1\" >178</th>\n",
       "                        <th id=\"T_ba809e4e_c7e3_11eb_a541_e9cce7681f15level1_row1\" class=\"row_heading level1 row1\" >Oathbreaker, Last Hope of the Breaking Storm</th>\n",
       "                        <td id=\"T_ba809e4e_c7e3_11eb_a541_e9cce7681f15row1_col0\" class=\"data row1 col0\" >12</td>\n",
       "                        <td id=\"T_ba809e4e_c7e3_11eb_a541_e9cce7681f15row1_col1\" class=\"data row1 col1\" >$4.23</td>\n",
       "                        <td id=\"T_ba809e4e_c7e3_11eb_a541_e9cce7681f15row1_col2\" class=\"data row1 col2\" >$50.76</td>\n",
       "            </tr>\n",
       "            <tr>\n",
       "                        <th id=\"T_ba809e4e_c7e3_11eb_a541_e9cce7681f15level0_row2\" class=\"row_heading level0 row2\" >82</th>\n",
       "                        <th id=\"T_ba809e4e_c7e3_11eb_a541_e9cce7681f15level1_row2\" class=\"row_heading level1 row2\" >Nirvana</th>\n",
       "                        <td id=\"T_ba809e4e_c7e3_11eb_a541_e9cce7681f15row2_col0\" class=\"data row2 col0\" >9</td>\n",
       "                        <td id=\"T_ba809e4e_c7e3_11eb_a541_e9cce7681f15row2_col1\" class=\"data row2 col1\" >$4.90</td>\n",
       "                        <td id=\"T_ba809e4e_c7e3_11eb_a541_e9cce7681f15row2_col2\" class=\"data row2 col2\" >$44.10</td>\n",
       "            </tr>\n",
       "            <tr>\n",
       "                        <th id=\"T_ba809e4e_c7e3_11eb_a541_e9cce7681f15level0_row3\" class=\"row_heading level0 row3\" >145</th>\n",
       "                        <th id=\"T_ba809e4e_c7e3_11eb_a541_e9cce7681f15level1_row3\" class=\"row_heading level1 row3\" >Fiery Glass Crusader</th>\n",
       "                        <td id=\"T_ba809e4e_c7e3_11eb_a541_e9cce7681f15row3_col0\" class=\"data row3 col0\" >9</td>\n",
       "                        <td id=\"T_ba809e4e_c7e3_11eb_a541_e9cce7681f15row3_col1\" class=\"data row3 col1\" >$4.58</td>\n",
       "                        <td id=\"T_ba809e4e_c7e3_11eb_a541_e9cce7681f15row3_col2\" class=\"data row3 col2\" >$41.22</td>\n",
       "            </tr>\n",
       "            <tr>\n",
       "                        <th id=\"T_ba809e4e_c7e3_11eb_a541_e9cce7681f15level0_row4\" class=\"row_heading level0 row4\" >103</th>\n",
       "                        <th id=\"T_ba809e4e_c7e3_11eb_a541_e9cce7681f15level1_row4\" class=\"row_heading level1 row4\" >Singed Scalpel</th>\n",
       "                        <td id=\"T_ba809e4e_c7e3_11eb_a541_e9cce7681f15row4_col0\" class=\"data row4 col0\" >8</td>\n",
       "                        <td id=\"T_ba809e4e_c7e3_11eb_a541_e9cce7681f15row4_col1\" class=\"data row4 col1\" >$4.35</td>\n",
       "                        <td id=\"T_ba809e4e_c7e3_11eb_a541_e9cce7681f15row4_col2\" class=\"data row4 col2\" >$34.80</td>\n",
       "            </tr>\n",
       "    </tbody></table>"
      ],
      "text/plain": [
       "<pandas.io.formats.style.Styler at 0x1a8ec8df460>"
      ]
     },
     "execution_count": 10,
     "metadata": {},
     "output_type": "execute_result"
    }
   ],
   "source": [
    "most_profitable_df = most_popular_df.sort_values(by =[\"Total Purchase Value\"], ascending=False).head(5)\n",
    "most_profitable_df\n",
    "most_profitable_formatted_df = most_profitable_df.style.format({\"Item Price\" : '${0:,.2f}',\n",
    "                                                              \"Total Purchase Value\" : '${0:,.2f}'})\n",
    "most_profitable_formatted_df"
   ]
  },
  {
   "cell_type": "code",
   "execution_count": null,
   "metadata": {},
   "outputs": [],
   "source": []
  }
 ],
 "metadata": {
  "kernelspec": {
   "display_name": "Python 3",
   "language": "python",
   "name": "python3"
  },
  "language_info": {
   "codemirror_mode": {
    "name": "ipython",
    "version": 3
   },
   "file_extension": ".py",
   "mimetype": "text/x-python",
   "name": "python",
   "nbconvert_exporter": "python",
   "pygments_lexer": "ipython3",
   "version": "3.8.5"
  }
 },
 "nbformat": 4,
 "nbformat_minor": 4
}
